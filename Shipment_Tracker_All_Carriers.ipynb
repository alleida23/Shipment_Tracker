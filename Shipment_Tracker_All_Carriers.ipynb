{
 "cells": [
  {
   "cell_type": "markdown",
   "id": "23da3f37",
   "metadata": {},
   "source": [
    "## Shipment Tracker - All Carriers"
   ]
  },
  {
   "cell_type": "markdown",
   "id": "77ac0cab",
   "metadata": {},
   "source": [
    "#### Set Paths"
   ]
  },
  {
   "cell_type": "code",
   "execution_count": 1,
   "id": "fc88c1c6",
   "metadata": {},
   "outputs": [],
   "source": [
    "from functions0_paths import get_paths, load_carrier_urls_details"
   ]
  },
  {
   "cell_type": "code",
   "execution_count": 2,
   "id": "a147ea41",
   "metadata": {},
   "outputs": [],
   "source": [
    "# Change the value to \"Logisteed\"\n",
    "excel_path, chromedriver_path, report_path = get_paths(user_name=\"Albert\")\n",
    "#display(excel_path, chrome_path, report_path)"
   ]
  },
  {
   "cell_type": "markdown",
   "id": "1feb73cb",
   "metadata": {},
   "source": [
    "#### Read Excel file"
   ]
  },
  {
   "cell_type": "code",
   "execution_count": 3,
   "id": "a35f6cd8",
   "metadata": {},
   "outputs": [
    {
     "data": {
      "text/markdown": [
       "**121 shipments pending to track**"
      ],
      "text/plain": [
       "<IPython.core.display.Markdown object>"
      ]
     },
     "metadata": {},
     "output_type": "display_data"
    },
    {
     "data": {
      "text/markdown": [
       "ADR total shipments: 1"
      ],
      "text/plain": [
       "<IPython.core.display.Markdown object>"
      ]
     },
     "metadata": {},
     "output_type": "display_data"
    },
    {
     "data": {
      "text/html": [
       "<div>\n",
       "<style scoped>\n",
       "    .dataframe tbody tr th:only-of-type {\n",
       "        vertical-align: middle;\n",
       "    }\n",
       "\n",
       "    .dataframe tbody tr th {\n",
       "        vertical-align: top;\n",
       "    }\n",
       "\n",
       "    .dataframe thead th {\n",
       "        text-align: right;\n",
       "    }\n",
       "</style>\n",
       "<table border=\"1\" class=\"dataframe\">\n",
       "  <thead>\n",
       "    <tr style=\"text-align: right;\">\n",
       "      <th></th>\n",
       "      <th>Carrier</th>\n",
       "      <th>Status</th>\n",
       "      <th>Count</th>\n",
       "    </tr>\n",
       "  </thead>\n",
       "  <tbody>\n",
       "  </tbody>\n",
       "</table>\n",
       "</div>"
      ],
      "text/plain": [
       "Empty DataFrame\n",
       "Columns: [Carrier, Status, Count]\n",
       "Index: []"
      ]
     },
     "metadata": {},
     "output_type": "display_data"
    },
    {
     "data": {
      "text/markdown": [
       "DHL total shipments: 1"
      ],
      "text/plain": [
       "<IPython.core.display.Markdown object>"
      ]
     },
     "metadata": {},
     "output_type": "display_data"
    },
    {
     "data": {
      "text/html": [
       "<div>\n",
       "<style scoped>\n",
       "    .dataframe tbody tr th:only-of-type {\n",
       "        vertical-align: middle;\n",
       "    }\n",
       "\n",
       "    .dataframe tbody tr th {\n",
       "        vertical-align: top;\n",
       "    }\n",
       "\n",
       "    .dataframe thead th {\n",
       "        text-align: right;\n",
       "    }\n",
       "</style>\n",
       "<table border=\"1\" class=\"dataframe\">\n",
       "  <thead>\n",
       "    <tr style=\"text-align: right;\">\n",
       "      <th></th>\n",
       "      <th>Carrier</th>\n",
       "      <th>Status</th>\n",
       "      <th>Count</th>\n",
       "    </tr>\n",
       "  </thead>\n",
       "  <tbody>\n",
       "    <tr>\n",
       "      <th>0</th>\n",
       "      <td>DHL</td>\n",
       "      <td>IN TRANSIT</td>\n",
       "      <td>1</td>\n",
       "    </tr>\n",
       "  </tbody>\n",
       "</table>\n",
       "</div>"
      ],
      "text/plain": [
       "  Carrier      Status  Count\n",
       "0     DHL  IN TRANSIT      1"
      ]
     },
     "metadata": {},
     "output_type": "display_data"
    },
    {
     "data": {
      "text/markdown": [
       "NACEX total shipments: 3"
      ],
      "text/plain": [
       "<IPython.core.display.Markdown object>"
      ]
     },
     "metadata": {},
     "output_type": "display_data"
    },
    {
     "data": {
      "text/html": [
       "<div>\n",
       "<style scoped>\n",
       "    .dataframe tbody tr th:only-of-type {\n",
       "        vertical-align: middle;\n",
       "    }\n",
       "\n",
       "    .dataframe tbody tr th {\n",
       "        vertical-align: top;\n",
       "    }\n",
       "\n",
       "    .dataframe thead th {\n",
       "        text-align: right;\n",
       "    }\n",
       "</style>\n",
       "<table border=\"1\" class=\"dataframe\">\n",
       "  <thead>\n",
       "    <tr style=\"text-align: right;\">\n",
       "      <th></th>\n",
       "      <th>Carrier</th>\n",
       "      <th>Status</th>\n",
       "      <th>Count</th>\n",
       "    </tr>\n",
       "  </thead>\n",
       "  <tbody>\n",
       "    <tr>\n",
       "      <th>1</th>\n",
       "      <td>NACEX</td>\n",
       "      <td>EXCEPTION</td>\n",
       "      <td>2</td>\n",
       "    </tr>\n",
       "    <tr>\n",
       "      <th>2</th>\n",
       "      <td>NACEX</td>\n",
       "      <td>IN TRANSIT</td>\n",
       "      <td>1</td>\n",
       "    </tr>\n",
       "  </tbody>\n",
       "</table>\n",
       "</div>"
      ],
      "text/plain": [
       "  Carrier      Status  Count\n",
       "1   NACEX   EXCEPTION      2\n",
       "2   NACEX  IN TRANSIT      1"
      ]
     },
     "metadata": {},
     "output_type": "display_data"
    },
    {
     "data": {
      "text/markdown": [
       "TNT total shipments: 111"
      ],
      "text/plain": [
       "<IPython.core.display.Markdown object>"
      ]
     },
     "metadata": {},
     "output_type": "display_data"
    },
    {
     "data": {
      "text/html": [
       "<div>\n",
       "<style scoped>\n",
       "    .dataframe tbody tr th:only-of-type {\n",
       "        vertical-align: middle;\n",
       "    }\n",
       "\n",
       "    .dataframe tbody tr th {\n",
       "        vertical-align: top;\n",
       "    }\n",
       "\n",
       "    .dataframe thead th {\n",
       "        text-align: right;\n",
       "    }\n",
       "</style>\n",
       "<table border=\"1\" class=\"dataframe\">\n",
       "  <thead>\n",
       "    <tr style=\"text-align: right;\">\n",
       "      <th></th>\n",
       "      <th>Carrier</th>\n",
       "      <th>Status</th>\n",
       "      <th>Count</th>\n",
       "    </tr>\n",
       "  </thead>\n",
       "  <tbody>\n",
       "    <tr>\n",
       "      <th>3</th>\n",
       "      <td>TNT</td>\n",
       "      <td>EXCEPTION</td>\n",
       "      <td>5</td>\n",
       "    </tr>\n",
       "    <tr>\n",
       "      <th>4</th>\n",
       "      <td>TNT</td>\n",
       "      <td>IN TRANSIT</td>\n",
       "      <td>106</td>\n",
       "    </tr>\n",
       "  </tbody>\n",
       "</table>\n",
       "</div>"
      ],
      "text/plain": [
       "  Carrier      Status  Count\n",
       "3     TNT   EXCEPTION      5\n",
       "4     TNT  IN TRANSIT    106"
      ]
     },
     "metadata": {},
     "output_type": "display_data"
    },
    {
     "data": {
      "text/markdown": [
       "UPS total shipments: 5"
      ],
      "text/plain": [
       "<IPython.core.display.Markdown object>"
      ]
     },
     "metadata": {},
     "output_type": "display_data"
    },
    {
     "data": {
      "text/html": [
       "<div>\n",
       "<style scoped>\n",
       "    .dataframe tbody tr th:only-of-type {\n",
       "        vertical-align: middle;\n",
       "    }\n",
       "\n",
       "    .dataframe tbody tr th {\n",
       "        vertical-align: top;\n",
       "    }\n",
       "\n",
       "    .dataframe thead th {\n",
       "        text-align: right;\n",
       "    }\n",
       "</style>\n",
       "<table border=\"1\" class=\"dataframe\">\n",
       "  <thead>\n",
       "    <tr style=\"text-align: right;\">\n",
       "      <th></th>\n",
       "      <th>Carrier</th>\n",
       "      <th>Status</th>\n",
       "      <th>Count</th>\n",
       "    </tr>\n",
       "  </thead>\n",
       "  <tbody>\n",
       "    <tr>\n",
       "      <th>5</th>\n",
       "      <td>UPS</td>\n",
       "      <td>IN TRANSIT</td>\n",
       "      <td>5</td>\n",
       "    </tr>\n",
       "  </tbody>\n",
       "</table>\n",
       "</div>"
      ],
      "text/plain": [
       "  Carrier      Status  Count\n",
       "5     UPS  IN TRANSIT      5"
      ]
     },
     "metadata": {},
     "output_type": "display_data"
    }
   ],
   "source": [
    "from functions1_read_excel import not_delivered_by_carrier\n",
    "excel_shipment_data = not_delivered_by_carrier(excel_path)"
   ]
  },
  {
   "cell_type": "code",
   "execution_count": 4,
   "id": "c4948581",
   "metadata": {},
   "outputs": [],
   "source": [
    "from functions2_build_url import get_chunked_urls\n",
    "chunked_urls = get_chunked_urls(excel_shipment_data)"
   ]
  },
  {
   "cell_type": "code",
   "execution_count": 5,
   "id": "2edbe3c7",
   "metadata": {},
   "outputs": [
    {
     "data": {
      "text/plain": [
       "{'DHL': ['https://www.dhl.com/es-es/home/tracking/tracking-express.html?submit=1&tracking-id=7137953071'],\n",
       " 'TNT': ['https://www.tnt.com/express/es_es/site/herramientas-envio/seguimiento.html?searchType=con&cons=607245928,607245931,607245945,607245959,607245980,607247521,607247685,607247711,607248164,607248368,607248399,607248487,607249584,607250021,607250239,607250344,607250551,607251089,607251574,607251512,607251526,607251591,607251764,607251778,607251804,607251870,607252040,607252190,607252274,607252380',\n",
       "  'https://www.tnt.com/express/es_es/site/herramientas-envio/seguimiento.html?searchType=con&cons=607252570,607252464,607252478,607252481,607252495,607252549,607252583,607252610,607253544,607252623,607252685,607252756,607252773,607252827,607252932,607252950,607252963,607253045,607253147,607253178,607253266,607253306,607253354,607253385,607253408,607253411,607253527,607253558,607253615,607253629',\n",
       "  'https://www.tnt.com/express/es_es/site/herramientas-envio/seguimiento.html?searchType=con&cons=607253646,607253677,607253694,607253748,607253751,607253782,607253924,607253941,607253955,607253969,607253986,607253990,607254006,607254010,607254023,607254037,607254045,607254054,607254139,607254142,607254085,607254099,607254108,607254111,607254125,607254156,607254160,607254173,607254187,607254403',\n",
       "  'https://www.tnt.com/express/es_es/site/herramientas-envio/seguimiento.html?searchType=con&cons=607254195,607254200,607254332,607254227,607254235,607254244,607254258,607254275,607254289,607254292,607254301,607254315,607254329,607254346,607254350,607254363,607254377,607254385,607254394,607254417,607254425']}"
      ]
     },
     "execution_count": 5,
     "metadata": {},
     "output_type": "execute_result"
    }
   ],
   "source": [
    "chunked_urls"
   ]
  },
  {
   "cell_type": "code",
   "execution_count": 6,
   "id": "aed14ec6",
   "metadata": {},
   "outputs": [
    {
     "data": {
      "text/markdown": [
       "--> Elapsed time scraping data: **116.91 seconds**"
      ],
      "text/plain": [
       "<IPython.core.display.Markdown object>"
      ]
     },
     "metadata": {},
     "output_type": "display_data"
    }
   ],
   "source": [
    "from functions3_webscrap import select_HTML_structure, scrap_HTML_structure\n",
    "dict_carrier_shipment_divs = scrap_HTML_structure(chunked_urls, chromedriver_path)"
   ]
  },
  {
   "cell_type": "code",
   "execution_count": 7,
   "id": "0e4bae1a",
   "metadata": {},
   "outputs": [],
   "source": [
    "#dict_carrier_shipment_divs"
   ]
  },
  {
   "cell_type": "code",
   "execution_count": 8,
   "id": "94861d80",
   "metadata": {},
   "outputs": [
    {
     "data": {
      "text/html": [
       "<div>\n",
       "<style scoped>\n",
       "    .dataframe tbody tr th:only-of-type {\n",
       "        vertical-align: middle;\n",
       "    }\n",
       "\n",
       "    .dataframe tbody tr th {\n",
       "        vertical-align: top;\n",
       "    }\n",
       "\n",
       "    .dataframe thead th {\n",
       "        text-align: right;\n",
       "    }\n",
       "</style>\n",
       "<table border=\"1\" class=\"dataframe\">\n",
       "  <thead>\n",
       "    <tr style=\"text-align: right;\">\n",
       "      <th></th>\n",
       "      <th>Client Reference</th>\n",
       "      <th>Shipment Number</th>\n",
       "      <th>Carrier Status</th>\n",
       "      <th>Shipment Origin Date</th>\n",
       "      <th>Shipment Destination</th>\n",
       "      <th>Last Update</th>\n",
       "      <th>Last Location</th>\n",
       "      <th>Last Action</th>\n",
       "      <th>Exception Notification</th>\n",
       "    </tr>\n",
       "  </thead>\n",
       "  <tbody>\n",
       "    <tr>\n",
       "      <th>0</th>\n",
       "      <td>DSD/121190</td>\n",
       "      <td>607252040</td>\n",
       "      <td>En entrega</td>\n",
       "      <td>18 de octubre de 2023</td>\n",
       "      <td>Laval,  France</td>\n",
       "      <td>20/10/23 14:53</td>\n",
       "      <td>Change</td>\n",
       "      <td>El envío está en camino.</td>\n",
       "      <td></td>\n",
       "    </tr>\n",
       "    <tr>\n",
       "      <th>1</th>\n",
       "      <td>DSD/120004</td>\n",
       "      <td>607247685</td>\n",
       "      <td>En tránsito</td>\n",
       "      <td>16 de octubre de 2023</td>\n",
       "      <td>Lahonce,  France</td>\n",
       "      <td>18/10/23 13:57</td>\n",
       "      <td></td>\n",
       "      <td>Envío retrasado en tránsito. Acciones de recup...</td>\n",
       "      <td>EXCEPTION ALERT</td>\n",
       "    </tr>\n",
       "    <tr>\n",
       "      <th>2</th>\n",
       "      <td>DSD/120754</td>\n",
       "      <td>607250021</td>\n",
       "      <td>En tránsito</td>\n",
       "      <td>17 de octubre de 2023</td>\n",
       "      <td>La Ferriere,  France</td>\n",
       "      <td>19/10/23 22:48</td>\n",
       "      <td></td>\n",
       "      <td>Envío retrasado en tránsito. Acciones de recup...</td>\n",
       "      <td>EXCEPTION ALERT</td>\n",
       "    </tr>\n",
       "    <tr>\n",
       "      <th>3</th>\n",
       "      <td>DSD/120830</td>\n",
       "      <td>607250344</td>\n",
       "      <td>En tránsito</td>\n",
       "      <td>17 de octubre de 2023</td>\n",
       "      <td>Fonbeauzard,  France</td>\n",
       "      <td>18/10/23 8:55</td>\n",
       "      <td></td>\n",
       "      <td>Envío retrasado en tránsito. Acciones de recup...</td>\n",
       "      <td>EXCEPTION ALERT</td>\n",
       "    </tr>\n",
       "    <tr>\n",
       "      <th>4</th>\n",
       "      <td>DSD/120206</td>\n",
       "      <td>607248164</td>\n",
       "      <td>En tránsito</td>\n",
       "      <td>16 de octubre de 2023</td>\n",
       "      <td>Lahonce,  France</td>\n",
       "      <td>26/10/23 7:34</td>\n",
       "      <td>Blagnac</td>\n",
       "      <td>El envío llegó al punto de conexión</td>\n",
       "      <td></td>\n",
       "    </tr>\n",
       "    <tr>\n",
       "      <th>...</th>\n",
       "      <td>...</td>\n",
       "      <td>...</td>\n",
       "      <td>...</td>\n",
       "      <td>...</td>\n",
       "      <td>...</td>\n",
       "      <td>...</td>\n",
       "      <td>...</td>\n",
       "      <td>...</td>\n",
       "      <td>...</td>\n",
       "    </tr>\n",
       "    <tr>\n",
       "      <th>106</th>\n",
       "      <td>DSD/121662</td>\n",
       "      <td>607254292</td>\n",
       "      <td>Entregado</td>\n",
       "      <td>19 de octubre de 2023</td>\n",
       "      <td>Tonneins,  France</td>\n",
       "      <td>23/10/23 10:50</td>\n",
       "      <td>Le Passage</td>\n",
       "      <td>Envío entregado en buen estado</td>\n",
       "      <td></td>\n",
       "    </tr>\n",
       "    <tr>\n",
       "      <th>107</th>\n",
       "      <td>DSD/121682</td>\n",
       "      <td>607254417</td>\n",
       "      <td>Entregado</td>\n",
       "      <td>19 de octubre de 2023</td>\n",
       "      <td>Sarlat La Caneda,  France</td>\n",
       "      <td>23/10/23 11:20</td>\n",
       "      <td>Marsac Sur L Isle</td>\n",
       "      <td>Envío entregado en buen estado</td>\n",
       "      <td></td>\n",
       "    </tr>\n",
       "    <tr>\n",
       "      <th>108</th>\n",
       "      <td>DSD/121648</td>\n",
       "      <td>607254332</td>\n",
       "      <td>Entregado</td>\n",
       "      <td>19 de octubre de 2023</td>\n",
       "      <td>Valenton,  France</td>\n",
       "      <td>23/10/23 15:43</td>\n",
       "      <td>Creteil</td>\n",
       "      <td>Envío entregado en buen estado</td>\n",
       "      <td></td>\n",
       "    </tr>\n",
       "    <tr>\n",
       "      <th>109</th>\n",
       "      <td>DSD/121652</td>\n",
       "      <td>607254235</td>\n",
       "      <td>Entregado</td>\n",
       "      <td>19 de octubre de 2023</td>\n",
       "      <td>Ales,  France</td>\n",
       "      <td>24/10/23 8:28</td>\n",
       "      <td>Nimes</td>\n",
       "      <td>Envío entregado en buen estado</td>\n",
       "      <td></td>\n",
       "    </tr>\n",
       "    <tr>\n",
       "      <th>110</th>\n",
       "      <td>DSD/121684</td>\n",
       "      <td>607254425</td>\n",
       "      <td>Entregado</td>\n",
       "      <td>19 de octubre de 2023</td>\n",
       "      <td>Furiani,  France</td>\n",
       "      <td>24/10/23 12:47</td>\n",
       "      <td>Borgo</td>\n",
       "      <td>Envío entregado en buen estado</td>\n",
       "      <td></td>\n",
       "    </tr>\n",
       "  </tbody>\n",
       "</table>\n",
       "<p>111 rows × 9 columns</p>\n",
       "</div>"
      ],
      "text/plain": [
       "    Client Reference Shipment Number Carrier Status   Shipment Origin Date  \\\n",
       "0         DSD/121190       607252040     En entrega  18 de octubre de 2023   \n",
       "1         DSD/120004       607247685    En tránsito  16 de octubre de 2023   \n",
       "2         DSD/120754       607250021    En tránsito  17 de octubre de 2023   \n",
       "3         DSD/120830       607250344    En tránsito  17 de octubre de 2023   \n",
       "4         DSD/120206       607248164    En tránsito  16 de octubre de 2023   \n",
       "..               ...             ...            ...                    ...   \n",
       "106       DSD/121662       607254292      Entregado  19 de octubre de 2023   \n",
       "107       DSD/121682       607254417      Entregado  19 de octubre de 2023   \n",
       "108       DSD/121648       607254332      Entregado  19 de octubre de 2023   \n",
       "109       DSD/121652       607254235      Entregado  19 de octubre de 2023   \n",
       "110       DSD/121684       607254425      Entregado  19 de octubre de 2023   \n",
       "\n",
       "          Shipment Destination     Last Update      Last Location  \\\n",
       "0               Laval,  France  20/10/23 14:53             Change   \n",
       "1             Lahonce,  France  18/10/23 13:57                      \n",
       "2         La Ferriere,  France  19/10/23 22:48                      \n",
       "3         Fonbeauzard,  France   18/10/23 8:55                      \n",
       "4             Lahonce,  France   26/10/23 7:34            Blagnac   \n",
       "..                         ...             ...                ...   \n",
       "106          Tonneins,  France  23/10/23 10:50         Le Passage   \n",
       "107  Sarlat La Caneda,  France  23/10/23 11:20  Marsac Sur L Isle   \n",
       "108          Valenton,  France  23/10/23 15:43            Creteil   \n",
       "109              Ales,  France   24/10/23 8:28              Nimes   \n",
       "110           Furiani,  France  24/10/23 12:47              Borgo   \n",
       "\n",
       "                                           Last Action Exception Notification  \n",
       "0                             El envío está en camino.                         \n",
       "1    Envío retrasado en tránsito. Acciones de recup...        EXCEPTION ALERT  \n",
       "2    Envío retrasado en tránsito. Acciones de recup...        EXCEPTION ALERT  \n",
       "3    Envío retrasado en tránsito. Acciones de recup...        EXCEPTION ALERT  \n",
       "4                  El envío llegó al punto de conexión                         \n",
       "..                                                 ...                    ...  \n",
       "106                     Envío entregado en buen estado                         \n",
       "107                     Envío entregado en buen estado                         \n",
       "108                     Envío entregado en buen estado                         \n",
       "109                     Envío entregado en buen estado                         \n",
       "110                     Envío entregado en buen estado                         \n",
       "\n",
       "[111 rows x 9 columns]"
      ]
     },
     "execution_count": 8,
     "metadata": {},
     "output_type": "execute_result"
    }
   ],
   "source": [
    "from functions4_extract_data_by_carrier import scrap_tnt\n",
    "df_tnt = scrap_tnt(dict_carrier_shipment_divs)\n",
    "df_tnt"
   ]
  },
  {
   "cell_type": "code",
   "execution_count": null,
   "id": "041bbe1a",
   "metadata": {},
   "outputs": [],
   "source": []
  },
  {
   "cell_type": "code",
   "execution_count": 9,
   "id": "9afe735d",
   "metadata": {},
   "outputs": [
    {
     "data": {
      "text/plain": [
       "[]"
      ]
     },
     "execution_count": 9,
     "metadata": {},
     "output_type": "execute_result"
    }
   ],
   "source": [
    "dict_carrier_shipment_divs['DHL']"
   ]
  },
  {
   "cell_type": "code",
   "execution_count": 10,
   "id": "35d7e2b0",
   "metadata": {},
   "outputs": [
    {
     "ename": "TypeError",
     "evalue": "cannot unpack non-iterable function object",
     "output_type": "error",
     "traceback": [
      "\u001b[0;31m---------------------------------------------------------------------------\u001b[0m",
      "\u001b[0;31mTypeError\u001b[0m                                 Traceback (most recent call last)",
      "\u001b[0;32m/var/folders/w7/7cfd14hn02g0d126w5q47rqw0000gn/T/ipykernel_3166/1574580968.py\u001b[0m in \u001b[0;36m<module>\u001b[0;34m\u001b[0m\n\u001b[1;32m      1\u001b[0m \u001b[0;32mfrom\u001b[0m \u001b[0mfunctions0_paths\u001b[0m \u001b[0;32mimport\u001b[0m \u001b[0mAPI_details\u001b[0m\u001b[0;34m\u001b[0m\u001b[0;34m\u001b[0m\u001b[0m\n\u001b[0;32m----> 2\u001b[0;31m \u001b[0mapi_key_DHL\u001b[0m\u001b[0;34m,\u001b[0m \u001b[0mapi_secret_DHL\u001b[0m \u001b[0;34m=\u001b[0m \u001b[0mAPI_details\u001b[0m\u001b[0;34m\u001b[0m\u001b[0;34m\u001b[0m\u001b[0m\n\u001b[0m\u001b[1;32m      3\u001b[0m \u001b[0mdisplay\u001b[0m\u001b[0;34m(\u001b[0m\u001b[0mapi_key_DHL\u001b[0m\u001b[0;34m,\u001b[0m\u001b[0mapi_secret_DHL\u001b[0m\u001b[0;34m)\u001b[0m\u001b[0;34m\u001b[0m\u001b[0;34m\u001b[0m\u001b[0m\n",
      "\u001b[0;31mTypeError\u001b[0m: cannot unpack non-iterable function object"
     ]
    }
   ],
   "source": [
    "from functions0_paths import API_details\n",
    "api_key_DHL, api_secret_DHL = API_details\n",
    "display(api_key_DHL,api_secret_DHL)"
   ]
  },
  {
   "cell_type": "code",
   "execution_count": null,
   "id": "5d958091",
   "metadata": {},
   "outputs": [],
   "source": []
  },
  {
   "cell_type": "code",
   "execution_count": null,
   "id": "54dc99f1",
   "metadata": {},
   "outputs": [],
   "source": []
  }
 ],
 "metadata": {
  "kernelspec": {
   "display_name": "Python 3 (ipykernel)",
   "language": "python",
   "name": "python3"
  },
  "language_info": {
   "codemirror_mode": {
    "name": "ipython",
    "version": 3
   },
   "file_extension": ".py",
   "mimetype": "text/x-python",
   "name": "python",
   "nbconvert_exporter": "python",
   "pygments_lexer": "ipython3",
   "version": "3.9.13"
  }
 },
 "nbformat": 4,
 "nbformat_minor": 5
}
