{
 "cells": [
  {
   "cell_type": "markdown",
   "id": "23da3f37",
   "metadata": {},
   "source": [
    "## Shipment Tracker - All Carriers"
   ]
  },
  {
   "cell_type": "markdown",
   "id": "77ac0cab",
   "metadata": {},
   "source": [
    "#### Set Paths"
   ]
  },
  {
   "cell_type": "code",
   "execution_count": 1,
   "id": "a147ea41",
   "metadata": {},
   "outputs": [],
   "source": [
    "from functions0_paths import get_paths, load_carrier_urls_details\n",
    "# Change the value to \"Logisteed\"\n",
    "excel_path, chromedriver_path, report_path = get_paths(user_name=\"Albert\")\n",
    "#display(excel_path, chrome_path, report_path)"
   ]
  },
  {
   "cell_type": "markdown",
   "id": "1feb73cb",
   "metadata": {},
   "source": [
    "#### Get New Track Report"
   ]
  },
  {
   "cell_type": "code",
   "execution_count": 2,
   "id": "a35f6cd8",
   "metadata": {},
   "outputs": [
    {
     "data": {
      "text/markdown": [
       "**127 shipments NOT DELIVERED in your file**"
      ],
      "text/plain": [
       "<IPython.core.display.Markdown object>"
      ]
     },
     "metadata": {},
     "output_type": "display_data"
    },
    {
     "data": {
      "text/html": [
       "<div>\n",
       "<style scoped>\n",
       "    .dataframe tbody tr th:only-of-type {\n",
       "        vertical-align: middle;\n",
       "    }\n",
       "\n",
       "    .dataframe tbody tr th {\n",
       "        vertical-align: top;\n",
       "    }\n",
       "\n",
       "    .dataframe thead th {\n",
       "        text-align: right;\n",
       "    }\n",
       "</style>\n",
       "<table border=\"1\" class=\"dataframe\">\n",
       "  <thead>\n",
       "    <tr style=\"text-align: right;\">\n",
       "      <th>Status</th>\n",
       "      <th>Carrier</th>\n",
       "      <th>In Transit</th>\n",
       "      <th>Exception</th>\n",
       "      <th>Totals</th>\n",
       "    </tr>\n",
       "  </thead>\n",
       "  <tbody>\n",
       "    <tr>\n",
       "      <th>0</th>\n",
       "      <td>DHL</td>\n",
       "      <td>7</td>\n",
       "      <td>0</td>\n",
       "      <td>7</td>\n",
       "    </tr>\n",
       "    <tr>\n",
       "      <th>1</th>\n",
       "      <td>NACEX</td>\n",
       "      <td>1</td>\n",
       "      <td>2</td>\n",
       "      <td>3</td>\n",
       "    </tr>\n",
       "    <tr>\n",
       "      <th>2</th>\n",
       "      <td>TNT</td>\n",
       "      <td>106</td>\n",
       "      <td>5</td>\n",
       "      <td>111</td>\n",
       "    </tr>\n",
       "    <tr>\n",
       "      <th>3</th>\n",
       "      <td>UPS</td>\n",
       "      <td>5</td>\n",
       "      <td>0</td>\n",
       "      <td>5</td>\n",
       "    </tr>\n",
       "  </tbody>\n",
       "</table>\n",
       "</div>"
      ],
      "text/plain": [
       "Status Carrier  In Transit  Exception  Totals\n",
       "0          DHL           7          0       7\n",
       "1        NACEX           1          2       3\n",
       "2          TNT         106          5     111\n",
       "3          UPS           5          0       5"
      ]
     },
     "metadata": {},
     "output_type": "display_data"
    },
    {
     "name": "stdout",
     "output_type": "stream",
     "text": [
      "New report file saved at: ./Track Reports/Track Report 30-11-2023 22_02_05.xlsx\n"
     ]
    }
   ],
   "source": [
    "from functions1_read_excel import not_delivered_by_carrier\n",
    "excel_shipment_data = not_delivered_by_carrier(excel_path)\n",
    "from functions2_build_url import get_chunked_urls\n",
    "chunked_urls = get_chunked_urls(excel_shipment_data)\n",
    "from functions3_api_details import set_API_requests\n",
    "new_track_report = set_API_requests(chunked_urls)\n",
    "from functions5_save_to_excel import save_to_excel\n",
    "save_to_excel(new_track_report, report_path)"
   ]
  },
  {
   "cell_type": "code",
   "execution_count": 3,
   "id": "22c8303f",
   "metadata": {},
   "outputs": [
    {
     "data": {
      "text/html": [
       "<div>\n",
       "<style scoped>\n",
       "    .dataframe tbody tr th:only-of-type {\n",
       "        vertical-align: middle;\n",
       "    }\n",
       "\n",
       "    .dataframe tbody tr th {\n",
       "        vertical-align: top;\n",
       "    }\n",
       "\n",
       "    .dataframe thead th {\n",
       "        text-align: right;\n",
       "    }\n",
       "</style>\n",
       "<table border=\"1\" class=\"dataframe\">\n",
       "  <thead>\n",
       "    <tr style=\"text-align: right;\">\n",
       "      <th></th>\n",
       "      <th>Carrier</th>\n",
       "      <th>Client Reference</th>\n",
       "      <th>Shipment Num.</th>\n",
       "      <th>Origin Date</th>\n",
       "      <th>From</th>\n",
       "      <th>To</th>\n",
       "      <th>Num. of Pieces</th>\n",
       "      <th>Processing Days</th>\n",
       "      <th>Carrier Status</th>\n",
       "      <th>Last Update</th>\n",
       "      <th>Hour</th>\n",
       "      <th>Last Location</th>\n",
       "      <th>Last Action</th>\n",
       "      <th>Exception Notification</th>\n",
       "    </tr>\n",
       "  </thead>\n",
       "  <tbody>\n",
       "    <tr>\n",
       "      <th>0</th>\n",
       "      <td>DHL</td>\n",
       "      <td>None</td>\n",
       "      <td>8401020773</td>\n",
       "      <td>16-11-23</td>\n",
       "      <td>Barcelona - Spain</td>\n",
       "      <td>Newcastle - UK</td>\n",
       "      <td>1</td>\n",
       "      <td>4</td>\n",
       "      <td>Delivered</td>\n",
       "      <td>20-11-23</td>\n",
       "      <td>12:11:00</td>\n",
       "      <td>Newcastle - UK</td>\n",
       "      <td>Delivered</td>\n",
       "      <td>None</td>\n",
       "    </tr>\n",
       "    <tr>\n",
       "      <th>1</th>\n",
       "      <td>DHL</td>\n",
       "      <td>None</td>\n",
       "      <td>8401066483</td>\n",
       "      <td>16-11-23</td>\n",
       "      <td>Barcelona - Spain</td>\n",
       "      <td>Manchester - UK</td>\n",
       "      <td>1</td>\n",
       "      <td>1</td>\n",
       "      <td>Delivered</td>\n",
       "      <td>17-11-23</td>\n",
       "      <td>11:06:00</td>\n",
       "      <td>Manchester - UK</td>\n",
       "      <td>Delivered</td>\n",
       "      <td>None</td>\n",
       "    </tr>\n",
       "    <tr>\n",
       "      <th>2</th>\n",
       "      <td>DHL</td>\n",
       "      <td>None</td>\n",
       "      <td>4674780854</td>\n",
       "      <td>16-11-23</td>\n",
       "      <td>Barcelona - Spain</td>\n",
       "      <td>Newcastle - UK</td>\n",
       "      <td>2</td>\n",
       "      <td>4</td>\n",
       "      <td>Delivered</td>\n",
       "      <td>20-11-23</td>\n",
       "      <td>12:15:00</td>\n",
       "      <td>Newcastle - UK</td>\n",
       "      <td>Delivered</td>\n",
       "      <td>None</td>\n",
       "    </tr>\n",
       "    <tr>\n",
       "      <th>3</th>\n",
       "      <td>DHL</td>\n",
       "      <td>None</td>\n",
       "      <td>4674719221</td>\n",
       "      <td>16-11-23</td>\n",
       "      <td>Barcelona - Spain</td>\n",
       "      <td>Manchester - UK</td>\n",
       "      <td>1</td>\n",
       "      <td>1</td>\n",
       "      <td>Delivered</td>\n",
       "      <td>17-11-23</td>\n",
       "      <td>11:34:00</td>\n",
       "      <td>Manchester - UK</td>\n",
       "      <td>Delivered</td>\n",
       "      <td>None</td>\n",
       "    </tr>\n",
       "    <tr>\n",
       "      <th>4</th>\n",
       "      <td>DHL</td>\n",
       "      <td>None</td>\n",
       "      <td>6222779172</td>\n",
       "      <td>16-11-23</td>\n",
       "      <td>Barcelona - Spain</td>\n",
       "      <td>Manchester - UK</td>\n",
       "      <td>1</td>\n",
       "      <td>4</td>\n",
       "      <td>Delivered</td>\n",
       "      <td>20-11-23</td>\n",
       "      <td>11:46:00</td>\n",
       "      <td>Manchester - UK</td>\n",
       "      <td>Delivered</td>\n",
       "      <td>None</td>\n",
       "    </tr>\n",
       "    <tr>\n",
       "      <th>5</th>\n",
       "      <td>DHL</td>\n",
       "      <td>None</td>\n",
       "      <td>5053537996</td>\n",
       "      <td>08-11-23</td>\n",
       "      <td>Barcelona - Spain</td>\n",
       "      <td>Glasgow - UK</td>\n",
       "      <td>1</td>\n",
       "      <td>5</td>\n",
       "      <td>Delivered</td>\n",
       "      <td>13-11-23</td>\n",
       "      <td>15:56:00</td>\n",
       "      <td>Glasgow - UK</td>\n",
       "      <td>Delivered</td>\n",
       "      <td>None</td>\n",
       "    </tr>\n",
       "    <tr>\n",
       "      <th>6</th>\n",
       "      <td>DHL</td>\n",
       "      <td>None</td>\n",
       "      <td>7137953071</td>\n",
       "      <td>10-10-23</td>\n",
       "      <td>Barcelona - Spain</td>\n",
       "      <td>Manchester - UK</td>\n",
       "      <td>1</td>\n",
       "      <td>1</td>\n",
       "      <td>Delivered</td>\n",
       "      <td>11-10-23</td>\n",
       "      <td>11:16:00</td>\n",
       "      <td>Manchester - UK</td>\n",
       "      <td>Delivered</td>\n",
       "      <td>None</td>\n",
       "    </tr>\n",
       "  </tbody>\n",
       "</table>\n",
       "</div>"
      ],
      "text/plain": [
       "  Carrier Client Reference Shipment Num. Origin Date               From  \\\n",
       "0     DHL             None    8401020773    16-11-23  Barcelona - Spain   \n",
       "1     DHL             None    8401066483    16-11-23  Barcelona - Spain   \n",
       "2     DHL             None    4674780854    16-11-23  Barcelona - Spain   \n",
       "3     DHL             None    4674719221    16-11-23  Barcelona - Spain   \n",
       "4     DHL             None    6222779172    16-11-23  Barcelona - Spain   \n",
       "5     DHL             None    5053537996    08-11-23  Barcelona - Spain   \n",
       "6     DHL             None    7137953071    10-10-23  Barcelona - Spain   \n",
       "\n",
       "                To  Num. of Pieces  Processing Days Carrier Status  \\\n",
       "0   Newcastle - UK               1                4      Delivered   \n",
       "1  Manchester - UK               1                1      Delivered   \n",
       "2   Newcastle - UK               2                4      Delivered   \n",
       "3  Manchester - UK               1                1      Delivered   \n",
       "4  Manchester - UK               1                4      Delivered   \n",
       "5     Glasgow - UK               1                5      Delivered   \n",
       "6  Manchester - UK               1                1      Delivered   \n",
       "\n",
       "  Last Update      Hour    Last Location Last Action Exception Notification  \n",
       "0    20-11-23  12:11:00   Newcastle - UK   Delivered                   None  \n",
       "1    17-11-23  11:06:00  Manchester - UK   Delivered                   None  \n",
       "2    20-11-23  12:15:00   Newcastle - UK   Delivered                   None  \n",
       "3    17-11-23  11:34:00  Manchester - UK   Delivered                   None  \n",
       "4    20-11-23  11:46:00  Manchester - UK   Delivered                   None  \n",
       "5    13-11-23  15:56:00     Glasgow - UK   Delivered                   None  \n",
       "6    11-10-23  11:16:00  Manchester - UK   Delivered                   None  "
      ]
     },
     "execution_count": 3,
     "metadata": {},
     "output_type": "execute_result"
    }
   ],
   "source": [
    "new_track_report"
   ]
  },
  {
   "cell_type": "code",
   "execution_count": null,
   "id": "c8ef5813",
   "metadata": {},
   "outputs": [],
   "source": []
  },
  {
   "cell_type": "code",
   "execution_count": null,
   "id": "dd2b04ef",
   "metadata": {},
   "outputs": [],
   "source": []
  },
  {
   "cell_type": "code",
   "execution_count": 4,
   "id": "ecb61525",
   "metadata": {},
   "outputs": [
    {
     "data": {
      "text/plain": [
       "['https://api-eu.dhl.com/track/shipments?trackingNumber=8401020773,8401066483,4674780854',\n",
       " 'https://api-eu.dhl.com/track/shipments?trackingNumber=4674719221,6222779172,5053537996',\n",
       " 'https://api-eu.dhl.com/track/shipments?trackingNumber=7137953071']"
      ]
     },
     "execution_count": 4,
     "metadata": {},
     "output_type": "execute_result"
    }
   ],
   "source": [
    "chunked_urls['DHL']"
   ]
  }
 ],
 "metadata": {
  "kernelspec": {
   "display_name": "Python 3 (ipykernel)",
   "language": "python",
   "name": "python3"
  },
  "language_info": {
   "codemirror_mode": {
    "name": "ipython",
    "version": 3
   },
   "file_extension": ".py",
   "mimetype": "text/x-python",
   "name": "python",
   "nbconvert_exporter": "python",
   "pygments_lexer": "ipython3",
   "version": "3.9.13"
  }
 },
 "nbformat": 4,
 "nbformat_minor": 5
}
