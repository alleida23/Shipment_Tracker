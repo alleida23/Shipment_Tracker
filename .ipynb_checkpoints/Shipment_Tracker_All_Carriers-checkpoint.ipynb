{
 "cells": [
  {
   "cell_type": "markdown",
   "id": "5e6283a0",
   "metadata": {},
   "source": [
    "#### Set Paths"
   ]
  },
  {
   "cell_type": "code",
   "execution_count": 1,
   "id": "2fc942b8",
   "metadata": {},
   "outputs": [],
   "source": [
    "from functions0_paths import get_paths, load_carrier_urls"
   ]
  },
  {
   "cell_type": "code",
   "execution_count": 2,
   "id": "174d1ab6",
   "metadata": {},
   "outputs": [],
   "source": [
    "# Change the value to \"Logisteed\"\n",
    "excel_path, chrome_path, report_path = get_paths(user_name=\"Albert\")\n",
    "\n",
    "#display(excel_path, chrome_path, report_path)"
   ]
  },
  {
   "cell_type": "markdown",
   "id": "ccfb0d3a",
   "metadata": {},
   "source": [
    "#### Read Excel file"
   ]
  },
  {
   "cell_type": "code",
   "execution_count": 3,
   "id": "364f6450",
   "metadata": {},
   "outputs": [
    {
     "data": {
      "text/markdown": [
       "**120 shipments pending to track**"
      ],
      "text/plain": [
       "<IPython.core.display.Markdown object>"
      ]
     },
     "metadata": {},
     "output_type": "display_data"
    },
    {
     "data": {
      "text/markdown": [
       "ADR total shipments: 1"
      ],
      "text/plain": [
       "<IPython.core.display.Markdown object>"
      ]
     },
     "metadata": {},
     "output_type": "display_data"
    },
    {
     "data": {
      "text/html": [
       "<div>\n",
       "<style scoped>\n",
       "    .dataframe tbody tr th:only-of-type {\n",
       "        vertical-align: middle;\n",
       "    }\n",
       "\n",
       "    .dataframe tbody tr th {\n",
       "        vertical-align: top;\n",
       "    }\n",
       "\n",
       "    .dataframe thead th {\n",
       "        text-align: right;\n",
       "    }\n",
       "</style>\n",
       "<table border=\"1\" class=\"dataframe\">\n",
       "  <thead>\n",
       "    <tr style=\"text-align: right;\">\n",
       "      <th></th>\n",
       "      <th>Carrier</th>\n",
       "      <th>Status</th>\n",
       "      <th>Count</th>\n",
       "    </tr>\n",
       "  </thead>\n",
       "  <tbody>\n",
       "  </tbody>\n",
       "</table>\n",
       "</div>"
      ],
      "text/plain": [
       "Empty DataFrame\n",
       "Columns: [Carrier, Status, Count]\n",
       "Index: []"
      ]
     },
     "metadata": {},
     "output_type": "display_data"
    },
    {
     "data": {
      "text/markdown": [
       "NACEX total shipments: 3"
      ],
      "text/plain": [
       "<IPython.core.display.Markdown object>"
      ]
     },
     "metadata": {},
     "output_type": "display_data"
    },
    {
     "data": {
      "text/html": [
       "<div>\n",
       "<style scoped>\n",
       "    .dataframe tbody tr th:only-of-type {\n",
       "        vertical-align: middle;\n",
       "    }\n",
       "\n",
       "    .dataframe tbody tr th {\n",
       "        vertical-align: top;\n",
       "    }\n",
       "\n",
       "    .dataframe thead th {\n",
       "        text-align: right;\n",
       "    }\n",
       "</style>\n",
       "<table border=\"1\" class=\"dataframe\">\n",
       "  <thead>\n",
       "    <tr style=\"text-align: right;\">\n",
       "      <th></th>\n",
       "      <th>Carrier</th>\n",
       "      <th>Status</th>\n",
       "      <th>Count</th>\n",
       "    </tr>\n",
       "  </thead>\n",
       "  <tbody>\n",
       "    <tr>\n",
       "      <th>0</th>\n",
       "      <td>NACEX</td>\n",
       "      <td>EXCEPTION</td>\n",
       "      <td>2</td>\n",
       "    </tr>\n",
       "    <tr>\n",
       "      <th>1</th>\n",
       "      <td>NACEX</td>\n",
       "      <td>IN TRANSIT</td>\n",
       "      <td>1</td>\n",
       "    </tr>\n",
       "  </tbody>\n",
       "</table>\n",
       "</div>"
      ],
      "text/plain": [
       "  Carrier      Status  Count\n",
       "0   NACEX   EXCEPTION      2\n",
       "1   NACEX  IN TRANSIT      1"
      ]
     },
     "metadata": {},
     "output_type": "display_data"
    },
    {
     "data": {
      "text/markdown": [
       "TNT total shipments: 111"
      ],
      "text/plain": [
       "<IPython.core.display.Markdown object>"
      ]
     },
     "metadata": {},
     "output_type": "display_data"
    },
    {
     "data": {
      "text/html": [
       "<div>\n",
       "<style scoped>\n",
       "    .dataframe tbody tr th:only-of-type {\n",
       "        vertical-align: middle;\n",
       "    }\n",
       "\n",
       "    .dataframe tbody tr th {\n",
       "        vertical-align: top;\n",
       "    }\n",
       "\n",
       "    .dataframe thead th {\n",
       "        text-align: right;\n",
       "    }\n",
       "</style>\n",
       "<table border=\"1\" class=\"dataframe\">\n",
       "  <thead>\n",
       "    <tr style=\"text-align: right;\">\n",
       "      <th></th>\n",
       "      <th>Carrier</th>\n",
       "      <th>Status</th>\n",
       "      <th>Count</th>\n",
       "    </tr>\n",
       "  </thead>\n",
       "  <tbody>\n",
       "    <tr>\n",
       "      <th>2</th>\n",
       "      <td>TNT</td>\n",
       "      <td>EXCEPTION</td>\n",
       "      <td>5</td>\n",
       "    </tr>\n",
       "    <tr>\n",
       "      <th>3</th>\n",
       "      <td>TNT</td>\n",
       "      <td>IN TRANSIT</td>\n",
       "      <td>106</td>\n",
       "    </tr>\n",
       "  </tbody>\n",
       "</table>\n",
       "</div>"
      ],
      "text/plain": [
       "  Carrier      Status  Count\n",
       "2     TNT   EXCEPTION      5\n",
       "3     TNT  IN TRANSIT    106"
      ]
     },
     "metadata": {},
     "output_type": "display_data"
    },
    {
     "data": {
      "text/markdown": [
       "UPS total shipments: 5"
      ],
      "text/plain": [
       "<IPython.core.display.Markdown object>"
      ]
     },
     "metadata": {},
     "output_type": "display_data"
    },
    {
     "data": {
      "text/html": [
       "<div>\n",
       "<style scoped>\n",
       "    .dataframe tbody tr th:only-of-type {\n",
       "        vertical-align: middle;\n",
       "    }\n",
       "\n",
       "    .dataframe tbody tr th {\n",
       "        vertical-align: top;\n",
       "    }\n",
       "\n",
       "    .dataframe thead th {\n",
       "        text-align: right;\n",
       "    }\n",
       "</style>\n",
       "<table border=\"1\" class=\"dataframe\">\n",
       "  <thead>\n",
       "    <tr style=\"text-align: right;\">\n",
       "      <th></th>\n",
       "      <th>Carrier</th>\n",
       "      <th>Status</th>\n",
       "      <th>Count</th>\n",
       "    </tr>\n",
       "  </thead>\n",
       "  <tbody>\n",
       "    <tr>\n",
       "      <th>4</th>\n",
       "      <td>UPS</td>\n",
       "      <td>IN TRANSIT</td>\n",
       "      <td>5</td>\n",
       "    </tr>\n",
       "  </tbody>\n",
       "</table>\n",
       "</div>"
      ],
      "text/plain": [
       "  Carrier      Status  Count\n",
       "4     UPS  IN TRANSIT      5"
      ]
     },
     "metadata": {},
     "output_type": "display_data"
    }
   ],
   "source": [
    "from functions1_excel_to_url import (not_delivered_by_carrier, shipments_by_carrier,\n",
    "                                    build_chunked_shipments, build_chunked_url)\n",
    "\n",
    "shipment_data = not_delivered_by_carrier(excel_path)"
   ]
  },
  {
   "cell_type": "code",
   "execution_count": 4,
   "id": "a63f8b70",
   "metadata": {},
   "outputs": [
    {
     "data": {
      "text/plain": [
       "{'ADR': {'url': 'https://adr.example.com/api', 'max_shipments': 10},\n",
       " 'DHL': {'url': 'https://dhl.example.com/api', 'max_shipments': 10},\n",
       " 'NACEX': {'url': 'https://nacex.example.com/api', 'max_shipments': 10},\n",
       " 'TNT': {'url': 'https://www.tnt.com/express/es_es/site/herramientas-envio/seguimiento.html?searchType=con&cons=',\n",
       "  'max_shipments': 30},\n",
       " 'UPS': {'url': 'https://ups.example.com/api', 'max_shipments': 10}}"
      ]
     },
     "execution_count": 4,
     "metadata": {},
     "output_type": "execute_result"
    }
   ],
   "source": [
    "dict_carrier_urls = load_carrier_urls()\n",
    "dict_carrier_urls"
   ]
  },
  {
   "cell_type": "code",
   "execution_count": 5,
   "id": "aec347c3",
   "metadata": {},
   "outputs": [
    {
     "data": {
      "text/plain": [
       "{'NACEX': ['607243961', 'DSD119050', 'DSD120006'],\n",
       " 'TNT': ['607245928',\n",
       "  '607245931',\n",
       "  '607245945',\n",
       "  '607245959',\n",
       "  '607245980',\n",
       "  '607247521',\n",
       "  '607247685',\n",
       "  '607247711',\n",
       "  '607248164',\n",
       "  '607248368',\n",
       "  '607248399',\n",
       "  '607248487',\n",
       "  '607249584',\n",
       "  '607250021',\n",
       "  '607250239',\n",
       "  '607250344',\n",
       "  '607250551',\n",
       "  '607251089',\n",
       "  '607251574',\n",
       "  '607251512',\n",
       "  '607251526',\n",
       "  '607251591',\n",
       "  '607251764',\n",
       "  '607251778',\n",
       "  '607251804',\n",
       "  '607251870',\n",
       "  '607252040',\n",
       "  '607252190',\n",
       "  '607252274',\n",
       "  '607252380',\n",
       "  '607252570',\n",
       "  '607252464',\n",
       "  '607252478',\n",
       "  '607252481',\n",
       "  '607252495',\n",
       "  '607252549',\n",
       "  '607252583',\n",
       "  '607252610',\n",
       "  '607253544',\n",
       "  '607252623',\n",
       "  '607252685',\n",
       "  '607252756',\n",
       "  '607252773',\n",
       "  '607252827',\n",
       "  '607252932',\n",
       "  '607252950',\n",
       "  '607252963',\n",
       "  '607253045',\n",
       "  '607253147',\n",
       "  '607253178',\n",
       "  '607253266',\n",
       "  '607253306',\n",
       "  '607253354',\n",
       "  '607253385',\n",
       "  '607253408',\n",
       "  '607253411',\n",
       "  '607253527',\n",
       "  '607253558',\n",
       "  '607253615',\n",
       "  '607253629',\n",
       "  '607253646',\n",
       "  '607253677',\n",
       "  '607253694',\n",
       "  '607253748',\n",
       "  '607253751',\n",
       "  '607253782',\n",
       "  '607253924',\n",
       "  '607253941',\n",
       "  '607253955',\n",
       "  '607253969',\n",
       "  '607253986',\n",
       "  '607253990',\n",
       "  '607254006',\n",
       "  '607254010',\n",
       "  '607254023',\n",
       "  '607254037',\n",
       "  '607254045',\n",
       "  '607254054',\n",
       "  '607254139',\n",
       "  '607254142',\n",
       "  '607254085',\n",
       "  '607254099',\n",
       "  '607254108',\n",
       "  '607254111',\n",
       "  '607254125',\n",
       "  '607254156',\n",
       "  '607254160',\n",
       "  '607254173',\n",
       "  '607254187',\n",
       "  '607254403',\n",
       "  '607254195',\n",
       "  '607254200',\n",
       "  '607254332',\n",
       "  '607254227',\n",
       "  '607254235',\n",
       "  '607254244',\n",
       "  '607254258',\n",
       "  '607254275',\n",
       "  '607254289',\n",
       "  '607254292',\n",
       "  '607254301',\n",
       "  '607254315',\n",
       "  '607254329',\n",
       "  '607254346',\n",
       "  '607254350',\n",
       "  '607254363',\n",
       "  '607254377',\n",
       "  '607254385',\n",
       "  '607254394',\n",
       "  '607254417',\n",
       "  '607254425'],\n",
       " 'UPS': ['1Z1V47910445166110',\n",
       "  '1Z1V47910443867214',\n",
       "  '1Z1V47910444927488',\n",
       "  '1Z1V47910443656755',\n",
       "  '1Z1V47910443656755'],\n",
       " 'ADR': ['nan']}"
      ]
     },
     "execution_count": 5,
     "metadata": {},
     "output_type": "execute_result"
    }
   ],
   "source": [
    "shipm_num_by_carrier_dict = shipments_by_carrier(shipment_data)\n",
    "shipm_num_by_carrier_dict"
   ]
  },
  {
   "cell_type": "code",
   "execution_count": 6,
   "id": "8ca0921d",
   "metadata": {},
   "outputs": [],
   "source": [
    "dict_carrier_urls, chunked_carrier_dict = build_chunked_shipments(shipm_num_by_carrier_dict)"
   ]
  },
  {
   "cell_type": "code",
   "execution_count": 7,
   "id": "f34383d7",
   "metadata": {},
   "outputs": [
    {
     "data": {
      "text/plain": [
       "{'NACEX': [('NACEX_chunk_1',\n",
       "   'https://nacex.example.com/api607243961,DSD119050,DSD120006')],\n",
       " 'TNT': [('TNT_chunk_1',\n",
       "   'https://www.tnt.com/express/es_es/site/herramientas-envio/seguimiento.html?searchType=con&cons=607245928,607245931,607245945,607245959,607245980,607247521,607247685,607247711,607248164,607248368,607248399,607248487,607249584,607250021,607250239,607250344,607250551,607251089,607251574,607251512,607251526,607251591,607251764,607251778,607251804,607251870,607252040,607252190,607252274,607252380'),\n",
       "  ('TNT_chunk_2',\n",
       "   'https://www.tnt.com/express/es_es/site/herramientas-envio/seguimiento.html?searchType=con&cons=607252570,607252464,607252478,607252481,607252495,607252549,607252583,607252610,607253544,607252623,607252685,607252756,607252773,607252827,607252932,607252950,607252963,607253045,607253147,607253178,607253266,607253306,607253354,607253385,607253408,607253411,607253527,607253558,607253615,607253629'),\n",
       "  ('TNT_chunk_3',\n",
       "   'https://www.tnt.com/express/es_es/site/herramientas-envio/seguimiento.html?searchType=con&cons=607253646,607253677,607253694,607253748,607253751,607253782,607253924,607253941,607253955,607253969,607253986,607253990,607254006,607254010,607254023,607254037,607254045,607254054,607254139,607254142,607254085,607254099,607254108,607254111,607254125,607254156,607254160,607254173,607254187,607254403'),\n",
       "  ('TNT_chunk_4',\n",
       "   'https://www.tnt.com/express/es_es/site/herramientas-envio/seguimiento.html?searchType=con&cons=607254195,607254200,607254332,607254227,607254235,607254244,607254258,607254275,607254289,607254292,607254301,607254315,607254329,607254346,607254350,607254363,607254377,607254385,607254394,607254417,607254425')],\n",
       " 'UPS': [('UPS_chunk_1',\n",
       "   'https://ups.example.com/api1Z1V47910445166110,1Z1V47910443867214,1Z1V47910444927488,1Z1V47910443656755,1Z1V47910443656755')],\n",
       " 'ADR': [('ADR_chunk_1', 'https://adr.example.com/apinan')]}"
      ]
     },
     "execution_count": 7,
     "metadata": {},
     "output_type": "execute_result"
    }
   ],
   "source": [
    "build_chunked_url(dict_carrier_urls, chunked_carrier_dict)"
   ]
  }
 ],
 "metadata": {
  "kernelspec": {
   "display_name": "Python 3 (ipykernel)",
   "language": "python",
   "name": "python3"
  },
  "language_info": {
   "codemirror_mode": {
    "name": "ipython",
    "version": 3
   },
   "file_extension": ".py",
   "mimetype": "text/x-python",
   "name": "python",
   "nbconvert_exporter": "python",
   "pygments_lexer": "ipython3",
   "version": "3.9.13"
  }
 },
 "nbformat": 4,
 "nbformat_minor": 5
}
