{
 "cells": [
  {
   "cell_type": "code",
   "execution_count": null,
   "id": "bcb14a0d",
   "metadata": {},
   "outputs": [],
   "source": [
    "dhl_shipments = [\n",
    "    \"5053537996\",\n",
    "    \"6222779172\",\n",
    "    \"4674719221\",\n",
    "    \"4674780854\",\n",
    "    \"8401066483\",\n",
    "    \"8401020773\",\n",
    "    \"8401039640\",\n",
    "    \"4674673953\",\n",
    "    \"8400951101\",\n",
    "    \"9897583161\",\n",
    "    \"8401098355\",\n",
    "    \"1202505010\",\n",
    "    \"2544861034\",\n",
    "    \"2689870562\",\n",
    "    \"2545040783\",\n",
    "    \"2544939095\",\n",
    "    \"2689898481\",\n",
    "    \"2689921975\",\n",
    "    \"2544920066\"\n",
    "]\n"
   ]
  },
  {
   "cell_type": "code",
   "execution_count": 49,
   "id": "875d74dd",
   "metadata": {},
   "outputs": [],
   "source": [
    "import pandas as pd\n",
    "from functions0_paths import API_details\n",
    "api_key_DHL, api_secret_DHL = API_details()"
   ]
  },
  {
   "cell_type": "code",
   "execution_count": 3,
   "id": "daf6e580",
   "metadata": {},
   "outputs": [],
   "source": [
    "tracking_number = \"7137953071\""
   ]
  },
  {
   "cell_type": "code",
   "execution_count": 5,
   "id": "78ed3a9f",
   "metadata": {},
   "outputs": [
    {
     "name": "stdout",
     "output_type": "stream",
     "text": [
      "{'shipments': [{'id': '7137953071', 'service': 'express', 'origin': {'address': {'addressLocality': 'BARCELONA - SPAIN'}, 'servicePoint': {'url': 'http://www.dhl.es/en/country_profile.html', 'label': 'Origin Service Area'}}, 'destination': {'address': {'addressLocality': 'MANCHESTER - UK'}, 'servicePoint': {'url': 'http://www.dhl.co.uk/en/country_profile.html', 'label': 'Destination Service Area'}}, 'status': {'timestamp': '2023-10-11T11:16:00', 'location': {'address': {'addressLocality': 'MANCHESTER - UK'}}, 'statusCode': 'delivered', 'status': 'delivered', 'description': 'Delivered'}, 'details': {'proofOfDelivery': {'documentUrl': 'https://webpod.dhl.com/webPOD/DHLePODRequest?hwb=j5%2FfhrZetLbUlmk%2F8zOm2Q%3D%3D&pudate=usNTfeWtZbjutxhLillJ2Q%3D%3D&appuid=9WBxXOIFEL6MaYCOUzDZcQ%3D%3D&language=en&country=G0', 'signatureUrl': 'https://webpod.dhl.com/webPOD/DHLePODRequest?hwb=j5%2FfhrZetLbUlmk%2F8zOm2Q%3D%3D&pudate=usNTfeWtZbjutxhLillJ2Q%3D%3D&appuid=9WBxXOIFEL6MaYCOUzDZcQ%3D%3D&language=en&country=G0'}, 'proofOfDeliverySignedAvailable': False, 'totalNumberOfPieces': 1, 'pieceIds': ['JD014600011210597409']}, 'events': [{'timestamp': '2023-10-11T11:16:00', 'location': {'address': {'addressLocality': 'MANCHESTER - UK'}}, 'description': 'Delivered', 'pieceIds': ['JD014600011210597409']}, {'timestamp': '2023-10-11T09:16:00', 'location': {'address': {'addressLocality': 'MANCHESTER - UK'}}, 'description': 'Shipment is out with courier for delivery', 'pieceIds': ['JD014600011210597409']}, {'timestamp': '2023-10-11T08:04:00', 'location': {'address': {'addressLocality': 'MANCHESTER - UK'}}, 'description': 'Arrived at DHL Delivery Facility  MANCHESTER - UK', 'pieceIds': ['JD014600011210597409']}, {'timestamp': '2023-10-11T06:15:00', 'location': {'address': {'addressLocality': 'EAST MIDLANDS - UK'}}, 'description': 'Shipment has departed from a DHL facility EAST MIDLANDS - UK', 'pieceIds': ['JD014600011210597409']}, {'timestamp': '2023-10-11T04:04:00', 'location': {'address': {'addressLocality': 'EAST MIDLANDS - UK'}}, 'description': 'Processed at EAST MIDLANDS - UK', 'pieceIds': ['JD014600011210597409']}, {'timestamp': '2023-10-11T03:53:00', 'location': {'address': {'addressLocality': 'EAST MIDLANDS - UK'}}, 'description': 'Clearance processing complete at EAST MIDLANDS - UK', 'pieceIds': ['JD014600011210597409']}, {'timestamp': '2023-10-11T03:41:00', 'location': {'address': {'addressLocality': 'EAST MIDLANDS - UK'}}, 'description': 'Arrived at DHL Sort Facility  EAST MIDLANDS - UK', 'pieceIds': ['JD014600011210597409']}, {'timestamp': '2023-10-11T02:39:00', 'location': {'address': {'addressLocality': 'MILAN - MALPENSA - ITALY'}}, 'description': 'Shipment has departed from a DHL facility MILAN - MALPENSA - ITALY', 'pieceIds': ['JD014600011210597409']}, {'timestamp': '2023-10-11T02:02:00', 'location': {'address': {'addressLocality': 'EAST MIDLANDS - UK'}}, 'description': 'Customs clearance status updated. Note - The Customs clearance process may start while the shipment is in transit to the destination. '}, {'timestamp': '2023-10-11T00:58:00', 'location': {'address': {'addressLocality': 'MILAN - MALPENSA - ITALY'}}, 'description': 'Processed at MILAN - MALPENSA - ITALY', 'pieceIds': ['JD014600011210597409']}, {'timestamp': '2023-10-11T00:30:00', 'location': {'address': {'addressLocality': 'MILAN - MALPENSA - ITALY'}}, 'description': 'Arrived at DHL Sort Facility  MILAN - MALPENSA - ITALY', 'pieceIds': ['JD014600011210597409']}, {'timestamp': '2023-10-10T22:46:00', 'location': {'address': {'addressLocality': 'BARCELONA - SPAIN'}}, 'description': 'Shipment has departed from a DHL facility BARCELONA - SPAIN', 'pieceIds': ['JD014600011210597409']}, {'timestamp': '2023-10-10T17:56:00', 'location': {'address': {'addressLocality': 'BARCELONA - SPAIN'}}, 'description': 'Processed at BARCELONA - SPAIN', 'pieceIds': ['JD014600011210597409']}, {'timestamp': '2023-10-10T16:02:00', 'location': {'address': {'addressLocality': 'BARCELONA - SPAIN'}}, 'description': 'Shipment picked up', 'pieceIds': ['JD014600011210597409']}]}]}\n"
     ]
    }
   ],
   "source": [
    "import requests\n",
    "\n",
    "url = f\"https://api-eu.dhl.com/track/shipments?trackingNumber={tracking_number}\"\n",
    "\n",
    "headers = {\n",
    "    \"DHL-API-Key\": api_key_DHL,\n",
    "}\n",
    "\n",
    "response = requests.get(url, headers=headers)\n",
    "\n",
    "if response.status_code == 200:\n",
    "    # API request successful\n",
    "    data = response.json()\n",
    "    # Process the response data as needed\n",
    "    data\n",
    "else:\n",
    "    # Handle errors\n",
    "    print(f\"Error {response.status_code}: {response.text}\")\n"
   ]
  },
  {
   "cell_type": "code",
   "execution_count": 45,
   "id": "5008b93e",
   "metadata": {},
   "outputs": [
    {
     "data": {
      "text/plain": [
       "'7137953071'"
      ]
     },
     "execution_count": 45,
     "metadata": {},
     "output_type": "execute_result"
    }
   ],
   "source": [
    "# Shipment number\n",
    "shipment_num = data['shipments'][0]['id']\n",
    "# Shipment Origin Date\n",
    "shipm_origin_date = data['shipments'][0]['events'][-1]['timestamp']\n",
    "# Shipment Origin Location\n",
    "shipm_origin_location = data['shipments'][0]['events'][-1]['location']['address']['addressLocality']\n",
    "# Number of pieces\n",
    "num_pieces= data['shipments'][0]['details']['totalNumberOfPieces']\n",
    "# Shipment destination\n",
    "shipment_destination = data['shipments'][0]['destination']['address']['addressLocality']\n",
    "# Carrier Status\n",
    "carrier_status = data['shipments'][0]['status']['description']\n",
    "# Last Update\n",
    "last_update = data['shipments'][0]['events'][0]['timestamp']\n",
    "# Last Location\n",
    "last_location = data['shipments'][0]['events'][0]['location']['address']['addressLocality']\n",
    "# Last Notification\n",
    "last_notification = data['shipments'][0]['events'][0]['description']"
   ]
  },
  {
   "cell_type": "code",
   "execution_count": null,
   "id": "531f755d",
   "metadata": {},
   "outputs": [],
   "source": []
  },
  {
   "cell_type": "code",
   "execution_count": 132,
   "id": "a19599c2",
   "metadata": {},
   "outputs": [
    {
     "data": {
      "text/html": [
       "<div>\n",
       "<style scoped>\n",
       "    .dataframe tbody tr th:only-of-type {\n",
       "        vertical-align: middle;\n",
       "    }\n",
       "\n",
       "    .dataframe tbody tr th {\n",
       "        vertical-align: top;\n",
       "    }\n",
       "\n",
       "    .dataframe thead th {\n",
       "        text-align: right;\n",
       "    }\n",
       "</style>\n",
       "<table border=\"1\" class=\"dataframe\">\n",
       "  <thead>\n",
       "    <tr style=\"text-align: right;\">\n",
       "      <th></th>\n",
       "      <th>Client Reference</th>\n",
       "      <th>Shipment Num.</th>\n",
       "      <th>Origin Date</th>\n",
       "      <th>From</th>\n",
       "      <th>To</th>\n",
       "      <th>Num. of Pieces</th>\n",
       "      <th>Carrier Status</th>\n",
       "      <th>Last Update</th>\n",
       "      <th>Last Location</th>\n",
       "      <th>Last Action</th>\n",
       "      <th>Exception Notification</th>\n",
       "    </tr>\n",
       "  </thead>\n",
       "  <tbody>\n",
       "    <tr>\n",
       "      <th>0</th>\n",
       "      <td>None</td>\n",
       "      <td>7137953071</td>\n",
       "      <td>2023-10-10T16:02:00</td>\n",
       "      <td>BARCELONA - SPAIN</td>\n",
       "      <td>MANCHESTER - UK</td>\n",
       "      <td>1</td>\n",
       "      <td>Delivered</td>\n",
       "      <td>2023-10-11T11:16:00</td>\n",
       "      <td>MANCHESTER - UK</td>\n",
       "      <td>Delivered</td>\n",
       "      <td>None</td>\n",
       "    </tr>\n",
       "  </tbody>\n",
       "</table>\n",
       "</div>"
      ],
      "text/plain": [
       "  Client Reference Shipment Num.          Origin Date               From  \\\n",
       "0             None    7137953071  2023-10-10T16:02:00  BARCELONA - SPAIN   \n",
       "\n",
       "                To  Num. of Pieces Carrier Status          Last Update  \\\n",
       "0  MANCHESTER - UK               1      Delivered  2023-10-11T11:16:00   \n",
       "\n",
       "     Last Location Last Action Exception Notification  \n",
       "0  MANCHESTER - UK   Delivered                   None  "
      ]
     },
     "execution_count": 132,
     "metadata": {},
     "output_type": "execute_result"
    }
   ],
   "source": [
    "# Extract data from every shipment\n",
    "all_results = []\n",
    "\n",
    "for shipment in data['shipments']:\n",
    "    # Shipment number\n",
    "    shipment_num = data['shipments'][0]['id']\n",
    "    # Shipment Origin Date\n",
    "    shipm_origin_date = data['shipments'][0]['events'][-1]['timestamp']\n",
    "    # Shipment Origin Location\n",
    "    shipm_origin_location = data['shipments'][0]['events'][-1]['location']['address']['addressLocality']\n",
    "    # Shipment destination\n",
    "    shipment_destination = data['shipments'][0]['destination']['address']['addressLocality']\n",
    "    # Number of pieces\n",
    "    num_pieces= data['shipments'][0]['details']['totalNumberOfPieces']\n",
    "    # Carrier Status\n",
    "    carrier_status = data['shipments'][0]['status']['description']\n",
    "    # Last Update\n",
    "    last_update = data['shipments'][0]['events'][0]['timestamp']\n",
    "    # Last Location\n",
    "    last_location = data['shipments'][0]['events'][0]['location']['address']['addressLocality']\n",
    "    # Last Notification\n",
    "    last_notification = data['shipments'][0]['events'][0]['description']\n",
    "    \n",
    "    # Append extracted data to the results list\n",
    "    all_results.append({\n",
    "        \"Client Reference\": None,\n",
    "        \"Shipment Num.\": shipment_num,\n",
    "        \"Origin Date\": shipm_origin_date,\n",
    "        \"From\": shipm_origin_location,\n",
    "        \"To\": shipment_destination,\n",
    "        \"Num. of Pieces\": num_pieces,\n",
    "        \"Carrier Status\": carrier_status,\n",
    "        \"Last Update\": last_update,\n",
    "        \"Last Location\": last_location,\n",
    "        \"Last Action\": last_notification,\n",
    "        \"Exception Notification\": None\n",
    "        })\n",
    "    \n",
    "# Create a DataFrame\n",
    "dhl_df = pd.DataFrame(all_results)\n",
    "dhl_df"
   ]
  },
  {
   "cell_type": "code",
   "execution_count": 148,
   "id": "f243ddd9",
   "metadata": {},
   "outputs": [
    {
     "data": {
      "text/html": [
       "<div>\n",
       "<style scoped>\n",
       "    .dataframe tbody tr th:only-of-type {\n",
       "        vertical-align: middle;\n",
       "    }\n",
       "\n",
       "    .dataframe tbody tr th {\n",
       "        vertical-align: top;\n",
       "    }\n",
       "\n",
       "    .dataframe thead th {\n",
       "        text-align: right;\n",
       "    }\n",
       "</style>\n",
       "<table border=\"1\" class=\"dataframe\">\n",
       "  <thead>\n",
       "    <tr style=\"text-align: right;\">\n",
       "      <th></th>\n",
       "      <th>Client Reference</th>\n",
       "      <th>Shipment Num.</th>\n",
       "      <th>Origin Date</th>\n",
       "      <th>From</th>\n",
       "      <th>To</th>\n",
       "      <th>Num. of Pieces</th>\n",
       "      <th>Carrier Status</th>\n",
       "      <th>Last Update</th>\n",
       "      <th>Hour</th>\n",
       "      <th>Last Location</th>\n",
       "      <th>Last Action</th>\n",
       "      <th>Processing Days</th>\n",
       "      <th>Exception Notification</th>\n",
       "    </tr>\n",
       "  </thead>\n",
       "  <tbody>\n",
       "    <tr>\n",
       "      <th>0</th>\n",
       "      <td>None</td>\n",
       "      <td>7137953071</td>\n",
       "      <td>10-10-23</td>\n",
       "      <td>Barcelona - Spain</td>\n",
       "      <td>Manchester - Uk</td>\n",
       "      <td>1</td>\n",
       "      <td>Delivered</td>\n",
       "      <td>11-10-23</td>\n",
       "      <td>11:16:00</td>\n",
       "      <td>Manchester - Uk</td>\n",
       "      <td>Delivered</td>\n",
       "      <td>1 days</td>\n",
       "      <td>None</td>\n",
       "    </tr>\n",
       "  </tbody>\n",
       "</table>\n",
       "</div>"
      ],
      "text/plain": [
       "  Client Reference Shipment Num. Origin Date               From  \\\n",
       "0             None    7137953071    10-10-23  Barcelona - Spain   \n",
       "\n",
       "                To  Num. of Pieces Carrier Status Last Update      Hour  \\\n",
       "0  Manchester - Uk               1      Delivered    11-10-23  11:16:00   \n",
       "\n",
       "     Last Location Last Action Processing Days Exception Notification  \n",
       "0  Manchester - Uk   Delivered          1 days                   None  "
      ]
     },
     "execution_count": 148,
     "metadata": {},
     "output_type": "execute_result"
    }
   ],
   "source": [
    "def clean_DHL(dhl_df):\n",
    "    \"\"\"\n",
    "    Clean DHL DataFrame by formatting dates and calculating processing days.\n",
    "\n",
    "    Parameters:\n",
    "    - dhl_df (pd.DataFrame): Input DataFrame with columns 'Origin Date', 'Last Update', and 'Carrier Status'.\n",
    "\n",
    "    Returns:\n",
    "    - pd.DataFrame: Cleaned DataFrame with additional columns 'Hour', 'Processing Days'.\n",
    "    - 'Origin Date' and 'Last Update' are formatted as 'dd-mm-yy'.\n",
    "    - 'Processing Days' are calculated based on the difference between 'Last Update' and 'Origin Date'.\n",
    "    - 'From', 'To', and 'Last Location' columns are transformed to title case.\n",
    "    - Columns are rearranged for better readability.\n",
    "    \"\"\"\n",
    "\n",
    "    # Import libraries inside the function\n",
    "    import pandas as pd\n",
    "    import numpy as np\n",
    "    from datetime import date\n",
    "\n",
    "    # Copy the DataFrame to avoid modifying the original\n",
    "    df = dhl_df.copy()\n",
    "\n",
    "    # Keep just dates for 'Origin Date' and 'Last Update', create last 'Hour'\n",
    "    df['Origin Date'] = df['Origin Date'].astype(str).str.split('T').str[0]\n",
    "    df['Hour'] = df['Last Update'].astype(str).str.split('T').str[1]\n",
    "    df['Last Update'] = df['Last Update'].astype(str).str.split('T').str[0]\n",
    "    \n",
    "    # Convert 'Origin Date', 'Last Update' to datetime and then format as 'dd-mm-yy'\n",
    "    df['Origin Date'] = pd.to_datetime(df['Origin Date'])#.dt.strftime('%d-%m-%y')\n",
    "    df['Last Update'] = pd.to_datetime(df['Last Update'])#.dt.strftime('%d-%m-%y')\n",
    "    \n",
    "    # Create 'Processing Days'\n",
    "    df['Processing Days'] = None\n",
    "    \n",
    "    for index, row in df.iterrows():\n",
    "        if row['Carrier Status'] == \"Delivered\":\n",
    "            # Calculate processing time for delivered shipments\n",
    "            processing_days = pd.to_datetime(row['Last Update']) - pd.to_datetime(row['Origin Date'])\n",
    "            df['Processing Days'] = processing_days\n",
    "        else:\n",
    "            current_date = date.today()\n",
    "            # Convert to datetime.date\n",
    "            current_date = pd.to_datetime(current_date, errors='coerce').date()  \n",
    "            origin_date = pd.to_datetime(df['Origin Date']).dt.date\n",
    "            df['Processing Days'] = current_date - origin_date\n",
    "    \n",
    "    # Convert 'Origin Date', 'Last Update' to datetime and then format as 'dd-mm-yy'\n",
    "    df['Origin Date'] = pd.to_datetime(df['Origin Date']).dt.strftime('%d-%m-%y')\n",
    "    df['Last Update'] = pd.to_datetime(df['Last Update']).dt.strftime('%d-%m-%y')\n",
    "    \n",
    "    # Applying title case transformation to column values \n",
    "    df['From'] = df['From'].str.title()\n",
    "    df['To'] = df['To'].str.title()\n",
    "    df['Last Location'] = df['To'].str.title()\n",
    "    \n",
    "    # Rearrange columns' order\n",
    "    df = df[['Client Reference', 'Shipment Num.', 'Origin Date', 'From', 'To',\n",
    "       'Num. of Pieces', 'Carrier Status', 'Last Update', 'Hour', 'Last Location',\n",
    "       'Last Action', 'Processing Days', 'Exception Notification']]\n",
    "    \n",
    "    return df\n",
    "\n",
    "# Set the maximum column width to display\n",
    "pd.set_option('display.max_colwidth', None)\n",
    "# Clean the DataFrame using the function\n",
    "clean_dhl = clean_DHL(dhl_df)\n",
    "clean_dhl"
   ]
  },
  {
   "cell_type": "code",
   "execution_count": 144,
   "id": "3e19429c",
   "metadata": {},
   "outputs": [
    {
     "data": {
      "text/plain": [
       "Index(['Client Reference', 'Shipment Num.', 'Origin Date', 'From', 'To',\n",
       "       'Num. of Pieces', 'Carrier Status', 'Last Update', 'Last Location',\n",
       "       'Last Action', 'Exception Notification', 'Hour', 'Processing Days'],\n",
       "      dtype='object')"
      ]
     },
     "execution_count": 144,
     "metadata": {},
     "output_type": "execute_result"
    }
   ],
   "source": [
    "clean_dhl.columns"
   ]
  },
  {
   "cell_type": "code",
   "execution_count": 47,
   "id": "07ac7797",
   "metadata": {},
   "outputs": [
    {
     "data": {
      "text/plain": [
       "1"
      ]
     },
     "execution_count": 47,
     "metadata": {},
     "output_type": "execute_result"
    }
   ],
   "source": [
    "len(data['shipments'])"
   ]
  },
  {
   "cell_type": "code",
   "execution_count": null,
   "id": "952b4b92",
   "metadata": {},
   "outputs": [],
   "source": []
  },
  {
   "cell_type": "code",
   "execution_count": null,
   "id": "71eb170a",
   "metadata": {},
   "outputs": [],
   "source": []
  },
  {
   "cell_type": "markdown",
   "id": "af16ce0d",
   "metadata": {},
   "source": [
    "## Retrieved Data"
   ]
  },
  {
   "cell_type": "code",
   "execution_count": 149,
   "id": "12716d8b",
   "metadata": {},
   "outputs": [],
   "source": [
    "#data"
   ]
  },
  {
   "cell_type": "markdown",
   "id": "6412a158",
   "metadata": {},
   "source": [
    "#### Access data for first shipment in \"data\""
   ]
  },
  {
   "cell_type": "code",
   "execution_count": 19,
   "id": "5831ecfa",
   "metadata": {},
   "outputs": [
    {
     "data": {
      "text/plain": [
       "'MANCHESTER - UK'"
      ]
     },
     "execution_count": 19,
     "metadata": {},
     "output_type": "execute_result"
    }
   ],
   "source": [
    "# Shipment destination\n",
    "data['shipments'][0]['destination']['address']['addressLocality']"
   ]
  },
  {
   "cell_type": "code",
   "execution_count": 22,
   "id": "d4c25ab3",
   "metadata": {},
   "outputs": [
    {
     "data": {
      "text/plain": [
       "'Delivered'"
      ]
     },
     "execution_count": 22,
     "metadata": {},
     "output_type": "execute_result"
    }
   ],
   "source": [
    "# Carrier Status\n",
    "data['shipments'][0]['status']['description']"
   ]
  },
  {
   "cell_type": "code",
   "execution_count": 32,
   "id": "c45a9666",
   "metadata": {},
   "outputs": [
    {
     "data": {
      "text/plain": [
       "'2023-10-11T11:16:00'"
      ]
     },
     "execution_count": 32,
     "metadata": {},
     "output_type": "execute_result"
    }
   ],
   "source": [
    "# Last Update\n",
    "data['shipments'][0]['events'][0]['timestamp']"
   ]
  },
  {
   "cell_type": "code",
   "execution_count": 37,
   "id": "b0829c88",
   "metadata": {},
   "outputs": [
    {
     "data": {
      "text/plain": [
       "'MANCHESTER - UK'"
      ]
     },
     "execution_count": 37,
     "metadata": {},
     "output_type": "execute_result"
    }
   ],
   "source": [
    "# Last Location\n",
    "data['shipments'][0]['events'][0]['location']['address']['addressLocality']"
   ]
  },
  {
   "cell_type": "code",
   "execution_count": 39,
   "id": "09964f88",
   "metadata": {},
   "outputs": [
    {
     "data": {
      "text/plain": [
       "'Delivered'"
      ]
     },
     "execution_count": 39,
     "metadata": {},
     "output_type": "execute_result"
    }
   ],
   "source": [
    "# Last Action / Notification\n",
    "data['shipments'][0]['events'][0]['description']"
   ]
  },
  {
   "cell_type": "code",
   "execution_count": 43,
   "id": "5e7aced1",
   "metadata": {},
   "outputs": [
    {
     "data": {
      "text/plain": [
       "'2023-10-10T16:02:00'"
      ]
     },
     "execution_count": 43,
     "metadata": {},
     "output_type": "execute_result"
    }
   ],
   "source": [
    "# Shipment Origin Date ([-1] ensures it is the first event registered)\n",
    "data['shipments'][0]['events'][-1]['timestamp']"
   ]
  },
  {
   "cell_type": "code",
   "execution_count": 44,
   "id": "0cbbd50a",
   "metadata": {},
   "outputs": [
    {
     "data": {
      "text/plain": [
       "'BARCELONA - SPAIN'"
      ]
     },
     "execution_count": 44,
     "metadata": {},
     "output_type": "execute_result"
    }
   ],
   "source": [
    "# Shipment Origin\n",
    "data['shipments'][0]['events'][-1]['location']['address']['addressLocality']"
   ]
  },
  {
   "cell_type": "code",
   "execution_count": 29,
   "id": "dd0b08e9",
   "metadata": {},
   "outputs": [
    {
     "data": {
      "text/plain": [
       "1"
      ]
     },
     "execution_count": 29,
     "metadata": {},
     "output_type": "execute_result"
    }
   ],
   "source": [
    "# Number of pieces\n",
    "data['shipments'][0]['details']['totalNumberOfPieces']"
   ]
  },
  {
   "cell_type": "code",
   "execution_count": null,
   "id": "90f06d89",
   "metadata": {},
   "outputs": [],
   "source": []
  }
 ],
 "metadata": {
  "kernelspec": {
   "display_name": "Python 3 (ipykernel)",
   "language": "python",
   "name": "python3"
  },
  "language_info": {
   "codemirror_mode": {
    "name": "ipython",
    "version": 3
   },
   "file_extension": ".py",
   "mimetype": "text/x-python",
   "name": "python",
   "nbconvert_exporter": "python",
   "pygments_lexer": "ipython3",
   "version": "3.9.13"
  }
 },
 "nbformat": 4,
 "nbformat_minor": 5
}
