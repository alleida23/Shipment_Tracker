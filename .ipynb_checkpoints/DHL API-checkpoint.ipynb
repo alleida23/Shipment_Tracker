{
 "cells": [
  {
   "cell_type": "code",
   "execution_count": null,
   "id": "6812f9b6",
   "metadata": {},
   "outputs": [],
   "source": [
    "dhl_shipments = [\n",
    "    \"5053537996\",\n",
    "    \"6222779172\",\n",
    "    \"4674719221\",\n",
    "    \"4674780854\",\n",
    "    \"8401066483\",\n",
    "    \"8401020773\",\n",
    "    \"8401039640\",\n",
    "    \"4674673953\",\n",
    "    \"8400951101\",\n",
    "    \"9897583161\",\n",
    "    \"8401098355\",\n",
    "    \"1202505010\",\n",
    "    \"2544861034\",\n",
    "    \"2689870562\",\n",
    "    \"2545040783\",\n",
    "    \"2544939095\",\n",
    "    \"2689898481\",\n",
    "    \"2689921975\",\n",
    "    \"2544920066\"\n",
    "]\n"
   ]
  },
  {
   "cell_type": "code",
   "execution_count": null,
   "id": "b77c671d",
   "metadata": {},
   "outputs": [],
   "source": [
    "import pandas as pd\n",
    "from functions0_paths import API_details\n",
    "api_key_DHL, api_secret_DHL = API_details()"
   ]
  },
  {
   "cell_type": "code",
   "execution_count": null,
   "id": "33ddad3c",
   "metadata": {},
   "outputs": [],
   "source": [
    "tracking_number = \"7137953071,2544920066\""
   ]
  },
  {
   "cell_type": "code",
   "execution_count": null,
   "id": "99651c6d",
   "metadata": {},
   "outputs": [],
   "source": [
    "import requests\n",
    "\n",
    "url = f\"https://api-eu.dhl.com/track/shipments?trackingNumber={tracking_number}\"\n",
    "\n",
    "headers = {\n",
    "    \"DHL-API-Key\": api_key_DHL,\n",
    "}\n",
    "\n",
    "response = requests.get(url, headers=headers)\n",
    "\n",
    "if response.status_code == 200:\n",
    "    # API request successful\n",
    "    data = response.json()\n",
    "    # Process the response data as needed\n",
    "    data\n",
    "else:\n",
    "    # Handle errors\n",
    "    print(f\"Error {response.status_code}: {response.text}\")\n"
   ]
  },
  {
   "cell_type": "code",
   "execution_count": null,
   "id": "f637b531",
   "metadata": {},
   "outputs": [],
   "source": []
  },
  {
   "cell_type": "code",
   "execution_count": null,
   "id": "332fe367",
   "metadata": {},
   "outputs": [],
   "source": [
    "# Extract data from every shipment\n",
    "all_results = []\n",
    "\n",
    "for shipment in data['shipments']:\n",
    "    # Shipment number\n",
    "    shipment_num = data['shipments'][0]['id']\n",
    "    # Shipment Origin Date\n",
    "    shipm_origin_date = data['shipments'][0]['events'][-1]['timestamp']\n",
    "    # Shipment Origin Location\n",
    "    shipm_origin_location = data['shipments'][0]['events'][-1]['location']['address']['addressLocality']\n",
    "    # Shipment destination\n",
    "    shipment_destination = data['shipments'][0]['destination']['address']['addressLocality']\n",
    "    # Number of pieces\n",
    "    num_pieces= data['shipments'][0]['details']['totalNumberOfPieces']\n",
    "    # Carrier Status\n",
    "    carrier_status = data['shipments'][0]['status']['description']\n",
    "    # Last Update\n",
    "    last_update = data['shipments'][0]['events'][0]['timestamp']\n",
    "    # Last Location\n",
    "    last_location = data['shipments'][0]['events'][0]['location']['address']['addressLocality']\n",
    "    # Last Notification\n",
    "    last_notification = data['shipments'][0]['events'][0]['description']\n",
    "    \n",
    "    # Append extracted data to the results list\n",
    "    all_results.append({\n",
    "        \"Client Reference\": None,\n",
    "        \"Shipment Num.\": shipment_num,\n",
    "        \"Origin Date\": shipm_origin_date,\n",
    "        \"From\": shipm_origin_location,\n",
    "        \"To\": shipment_destination,\n",
    "        \"Num. of Pieces\": num_pieces,\n",
    "        \"Carrier Status\": carrier_status,\n",
    "        \"Last Update\": last_update,\n",
    "        \"Last Location\": last_location,\n",
    "        \"Last Action\": last_notification,\n",
    "        \"Exception Notification\": None\n",
    "        })\n",
    "    \n",
    "# Create a DataFrame\n",
    "dhl_df = pd.DataFrame(all_results)\n",
    "dhl_df"
   ]
  },
  {
   "cell_type": "code",
   "execution_count": null,
   "id": "ea6a7822",
   "metadata": {},
   "outputs": [],
   "source": [
    "def clean_DHL(dhl_df):\n",
    "    \"\"\"\n",
    "    Clean DHL DataFrame by formatting dates and calculating processing days.\n",
    "\n",
    "    Parameters:\n",
    "    - dhl_df (pd.DataFrame): Input DataFrame with columns 'Origin Date', 'Last Update', and 'Carrier Status'.\n",
    "\n",
    "    Returns:\n",
    "    - pd.DataFrame: Cleaned DataFrame with additional columns 'Hour', 'Processing Days'.\n",
    "    - 'Origin Date' and 'Last Update' are formatted as 'dd-mm-yy'.\n",
    "    - 'Processing Days' are calculated based on the difference between 'Last Update' and 'Origin Date'.\n",
    "    - 'From', 'To', and 'Last Location' columns are transformed to title case.\n",
    "    - Columns are rearranged for better readability.\n",
    "    \"\"\"\n",
    "\n",
    "    # Import libraries inside the function\n",
    "    import pandas as pd\n",
    "    import numpy as np\n",
    "    from datetime import date\n",
    "\n",
    "    # Copy the DataFrame to avoid modifying the original\n",
    "    df = dhl_df.copy()\n",
    "\n",
    "    # Keep just dates for 'Origin Date' and 'Last Update', create last 'Hour'\n",
    "    df['Origin Date'] = df['Origin Date'].astype(str).str.split('T').str[0]\n",
    "    df['Hour'] = df['Last Update'].astype(str).str.split('T').str[1]\n",
    "    df['Last Update'] = df['Last Update'].astype(str).str.split('T').str[0]\n",
    "    \n",
    "    # Convert 'Origin Date', 'Last Update' to datetime and then format as 'dd-mm-yy'\n",
    "    df['Origin Date'] = pd.to_datetime(df['Origin Date'])#.dt.strftime('%d-%m-%y')\n",
    "    df['Last Update'] = pd.to_datetime(df['Last Update'])#.dt.strftime('%d-%m-%y')\n",
    "    \n",
    "    # Create 'Processing Days'\n",
    "    df['Processing Days'] = None\n",
    "    \n",
    "    for index, row in df.iterrows():\n",
    "        if row['Carrier Status'] == \"Delivered\":\n",
    "            # Calculate processing time for delivered shipments\n",
    "            processing_days = pd.to_datetime(row['Last Update']) - pd.to_datetime(row['Origin Date'])\n",
    "            df['Processing Days'] = processing_days\n",
    "        else:\n",
    "            current_date = date.today()\n",
    "            # Convert to datetime.date\n",
    "            current_date = pd.to_datetime(current_date, errors='coerce').date()  \n",
    "            origin_date = pd.to_datetime(df['Origin Date']).dt.date\n",
    "            df['Processing Days'] = current_date - origin_date\n",
    "    \n",
    "    # Convert 'Origin Date', 'Last Update' to datetime and then format as 'dd-mm-yy'\n",
    "    df['Origin Date'] = pd.to_datetime(df['Origin Date']).dt.strftime('%d-%m-%y')\n",
    "    df['Last Update'] = pd.to_datetime(df['Last Update']).dt.strftime('%d-%m-%y')\n",
    "    \n",
    "    # Applying title case transformation to column values \n",
    "    df['From'] = df['From'].str.title()\n",
    "    df['To'] = df['To'].str.title()\n",
    "    df['Last Location'] = df['To'].str.title()\n",
    "    \n",
    "    # Rearrange columns' order\n",
    "    df = df[['Client Reference', 'Shipment Num.', 'Origin Date', 'From', 'To',\n",
    "       'Num. of Pieces', 'Carrier Status', 'Last Update', 'Hour', 'Last Location',\n",
    "       'Last Action', 'Processing Days', 'Exception Notification']]\n",
    "    \n",
    "    return df\n",
    "\n",
    "# Set the maximum column width to display\n",
    "pd.set_option('display.max_colwidth', None)\n",
    "# Clean the DataFrame using the function\n",
    "clean_dhl = clean_DHL(dhl_df)\n",
    "clean_dhl"
   ]
  },
  {
   "cell_type": "code",
   "execution_count": null,
   "id": "af06e6e7",
   "metadata": {},
   "outputs": [],
   "source": [
    "clean_dhl.columns"
   ]
  },
  {
   "cell_type": "code",
   "execution_count": null,
   "id": "6b320e19",
   "metadata": {},
   "outputs": [],
   "source": [
    "len(data['shipments'])"
   ]
  },
  {
   "cell_type": "code",
   "execution_count": null,
   "id": "2740a31e",
   "metadata": {},
   "outputs": [],
   "source": []
  },
  {
   "cell_type": "code",
   "execution_count": null,
   "id": "415ae5c6",
   "metadata": {},
   "outputs": [],
   "source": []
  },
  {
   "cell_type": "markdown",
   "id": "bb657ae5",
   "metadata": {},
   "source": [
    "## Retrieved Data"
   ]
  },
  {
   "cell_type": "code",
   "execution_count": null,
   "id": "195755e1",
   "metadata": {},
   "outputs": [],
   "source": [
    "#data"
   ]
  },
  {
   "cell_type": "markdown",
   "id": "9010829b",
   "metadata": {},
   "source": [
    "#### Access data for first shipment in \"data\""
   ]
  },
  {
   "cell_type": "code",
   "execution_count": null,
   "id": "570ead42",
   "metadata": {},
   "outputs": [],
   "source": [
    "# Shipment destination\n",
    "data['shipments'][0]['destination']['address']['addressLocality']"
   ]
  },
  {
   "cell_type": "code",
   "execution_count": null,
   "id": "f32d5671",
   "metadata": {},
   "outputs": [],
   "source": [
    "# Carrier Status\n",
    "data['shipments'][0]['status']['description']"
   ]
  },
  {
   "cell_type": "code",
   "execution_count": null,
   "id": "59f1218e",
   "metadata": {},
   "outputs": [],
   "source": [
    "# Last Update\n",
    "data['shipments'][0]['events'][0]['timestamp']"
   ]
  },
  {
   "cell_type": "code",
   "execution_count": null,
   "id": "65557efe",
   "metadata": {},
   "outputs": [],
   "source": [
    "# Last Location\n",
    "data['shipments'][0]['events'][0]['location']['address']['addressLocality']"
   ]
  },
  {
   "cell_type": "code",
   "execution_count": null,
   "id": "3a0b391c",
   "metadata": {},
   "outputs": [],
   "source": [
    "# Last Action / Notification\n",
    "data['shipments'][0]['events'][0]['description']"
   ]
  },
  {
   "cell_type": "code",
   "execution_count": null,
   "id": "f084b8e4",
   "metadata": {},
   "outputs": [],
   "source": [
    "# Shipment Origin Date ([-1] ensures it is the first event registered)\n",
    "data['shipments'][0]['events'][-1]['timestamp']"
   ]
  },
  {
   "cell_type": "code",
   "execution_count": null,
   "id": "5c482cb3",
   "metadata": {},
   "outputs": [],
   "source": [
    "# Shipment Origin\n",
    "data['shipments'][0]['events'][-1]['location']['address']['addressLocality']"
   ]
  },
  {
   "cell_type": "code",
   "execution_count": null,
   "id": "da10ad1e",
   "metadata": {},
   "outputs": [],
   "source": [
    "# Number of pieces\n",
    "data['shipments'][0]['details']['totalNumberOfPieces']"
   ]
  },
  {
   "cell_type": "code",
   "execution_count": null,
   "id": "12e94e86",
   "metadata": {},
   "outputs": [],
   "source": []
  },
  {
   "cell_type": "markdown",
   "id": "2195a577",
   "metadata": {},
   "source": [
    "#### Or access data for any specific shipment in \"data\""
   ]
  },
  {
   "cell_type": "markdown",
   "id": "f1479423",
   "metadata": {},
   "source": [
    "Replace the 'num' value with the desired index \n",
    "\n",
    "    -  '0' = first result in data and so on\n",
    "    - '-1' = last"
   ]
  },
  {
   "cell_type": "code",
   "execution_count": null,
   "id": "f28a4a76",
   "metadata": {},
   "outputs": [],
   "source": [
    "num = int(input(\"Enter the index of the shipment (0 for the first result, -1 for the last): \"))\n",
    "\n",
    "shipment_num = data['shipments'][num]['id']\n",
    "shipm_origin_date = data['shipments'][num]['events'][-1]['timestamp']\n",
    "shipm_origin_location = data['shipments'][num]['events'][-1]['location']['address']['addressLocality']\n",
    "shipment_destination = data['shipments'][num]['destination']['address']['addressLocality']\n",
    "num_pieces= data['shipments'][num]['details']['totalNumberOfPieces']\n",
    "carrier_status = data['shipments'][num]['status']['description']\n",
    "last_update = data['shipments'][num]['events'][0]['timestamp']\n",
    "last_location = data['shipments'][num]['events'][0]['location']['address']['addressLocality']\n",
    "last_notification = data['shipments'][num]['events'][0]['description']\n",
    "\n",
    "\n",
    "print(f\"Shipment Number: {shipment_num}\")\n",
    "print(f\"Shipment Origin Date: {shipm_origin_date}\")\n",
    "print(f\"Shipment Origin Location: {shipm_origin_location}\")\n",
    "print(f\"Shipment Destination: {shipment_destination}\")\n",
    "print(f\"Number of Pieces: {num_pieces}\")\n",
    "print(f\"Carrier Status: {carrier_status}\")\n",
    "print(f\"Last Update: {last_update}\")\n",
    "print(f\"Last Location: {last_location}\")\n",
    "print(f\"Last Action: {last_notification}\")"
   ]
  }
 ],
 "metadata": {
  "kernelspec": {
   "display_name": "Python 3 (ipykernel)",
   "language": "python",
   "name": "python3"
  },
  "language_info": {
   "codemirror_mode": {
    "name": "ipython",
    "version": 3
   },
   "file_extension": ".py",
   "mimetype": "text/x-python",
   "name": "python",
   "nbconvert_exporter": "python",
   "pygments_lexer": "ipython3",
   "version": "3.9.13"
  }
 },
 "nbformat": 4,
 "nbformat_minor": 5
}
